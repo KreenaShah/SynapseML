{
  "nbformat": 4,
  "nbformat_minor": 0,
  "metadata": {
    "colab": {
      "provenance": [],
      "collapsed_sections": [],
      "authorship_tag": "ABX9TyPC/XzJi35+ORgZ6ZOdxsbF",
      "include_colab_link": true
    },
    "kernelspec": {
      "name": "python3",
      "display_name": "Python 3"
    },
    "language_info": {
      "name": "python"
    }
  },
  "cells": [
    {
      "cell_type": "markdown",
      "metadata": {
        "id": "view-in-github",
        "colab_type": "text"
      },
      "source": [
        "<a href=\"https://colab.research.google.com/github/KreenaShah/SynapseML/blob/main/MLTask1.ipynb\" target=\"_parent\"><img src=\"https://colab.research.google.com/assets/colab-badge.svg\" alt=\"Open In Colab\"/></a>"
      ]
    },
    {
      "cell_type": "code",
      "execution_count": null,
      "metadata": {
        "id": "LWiMfsO2bB5z",
        "outputId": "03d377df-1850-4185-aa6c-d16bdd15c697",
        "colab": {
          "base_uri": "https://localhost:8080/"
        }
      },
      "outputs": [
        {
          "output_type": "stream",
          "name": "stdout",
          "text": [
            "Hey , kreena here!\n"
          ]
        }
      ],
      "source": [
        "print(\"Hey , kreena here!\")"
      ]
    },
    {
      "cell_type": "markdown",
      "source": [
        "# Task1.1\n"
      ],
      "metadata": {
        "id": "VOdXvb05b-IR"
      }
    },
    {
      "cell_type": "code",
      "source": [
        "modern_family = ['CLaiRe_DunPhY', 'PHiL_dUnpHY', 'GLoRiA_PriTCheTt', 'CaMErOn_TuCKEr',\n",
        "'StELLa']\n",
        "print(modern_family)\n",
        "\n",
        "indices = []\n",
        "characters = []\n",
        "# print(list(enumerate(modern_family)))  # enumerate => tupple of (index + element) ka list\n",
        "for i,j in enumerate(modern_family):\n",
        "    indices.append(i)\n",
        "    characters.append(j)\n",
        "print(indices)\n",
        "print(characters)\n",
        "\n",
        "for i in range(len(characters)):\n",
        "    characters[i] = characters[i].lower().replace(\"_\", \"-\")\n",
        "print(characters)\n",
        "\n",
        "temp = list(map(lambda i: len(characters[i]), range(len(characters))))\n",
        "# print(temp)\n",
        "\n",
        "# Method 2\n",
        "# Iterable Unpacking Operator *\n",
        "# convert a map object into a list\n",
        "# purpose is to assign the iterable with all the values to a List or a Tuple\n",
        "\n",
        "# temp = [*map(lambda i: len(characters[i]), range(len(characters)))]\n",
        "# print(temp)\n",
        "\n",
        "t1 = list(zip(indices, temp)) # zip makes list of tupple jisme dono lists ke 1st index vale log 1st tupple ke element banegeg\n",
        "print(t1)\n",
        "\n",
        "for i in range(len(t1)):\n",
        "    indices[i] = sum(t1[i])\n",
        "print(indices)\n",
        "\n",
        "indices.sort(reverse=True)\n",
        "print(indices)\n",
        "\n",
        "Phew_finally = {indices[i]: characters[i] for i in range(len(indices))}\n",
        "print(Phew_finally)"
      ],
      "metadata": {
        "id": "KfUD1-gXbL5m",
        "colab": {
          "base_uri": "https://localhost:8080/"
        },
        "outputId": "8a177337-a457-406a-9ecb-f9d5ac24d797"
      },
      "execution_count": null,
      "outputs": [
        {
          "output_type": "stream",
          "name": "stdout",
          "text": [
            "['CLaiRe_DunPhY', 'PHiL_dUnpHY', 'GLoRiA_PriTCheTt', 'CaMErOn_TuCKEr', 'StELLa']\n",
            "[0, 1, 2, 3, 4]\n",
            "['CLaiRe_DunPhY', 'PHiL_dUnpHY', 'GLoRiA_PriTCheTt', 'CaMErOn_TuCKEr', 'StELLa']\n",
            "['claire-dunphy', 'phil-dunphy', 'gloria-pritchett', 'cameron-tucker', 'stella']\n",
            "[(0, 13), (1, 11), (2, 16), (3, 14), (4, 6)]\n",
            "[13, 12, 18, 17, 10]\n",
            "[18, 17, 13, 12, 10]\n",
            "{18: 'claire-dunphy', 17: 'phil-dunphy', 13: 'gloria-pritchett', 12: 'cameron-tucker', 10: 'stella'}\n"
          ]
        }
      ]
    },
    {
      "cell_type": "markdown",
      "source": [
        "# Task1.2"
      ],
      "metadata": {
        "id": "vcpMEhYFcGft"
      }
    },
    {
      "cell_type": "code",
      "source": [
        "creepy_doll = ['red_light', 'green_light', 'red_light', 'you_got_shot', 'green_light', 'you_got_shot',\n",
        "'you_got_shot', 'green_light', 'you_ got_shot', 'red_light', 'green_light', 'red_light', 'you_got_shot',\n",
        "'green_light','red_light', 'red_light', 'green_light', 'you_got_shot', 'red_light', 'you_got_shot']\n",
        "\n",
        "# Lst[ Initial : End : IndexJump ]\n",
        "print(creepy_doll[1:19:3])\n",
        "# initial : 1 => index 1 se start hoga\n",
        "# Index Jump : agar 3 likha hai that means initial index + 3"
      ],
      "metadata": {
        "colab": {
          "base_uri": "https://localhost:8080/"
        },
        "id": "BJn6DJ3ucIsW",
        "outputId": "15562d5c-89a9-48a3-e2b8-2902fa57654b"
      },
      "execution_count": null,
      "outputs": [
        {
          "output_type": "stream",
          "name": "stdout",
          "text": [
            "['green_light', 'green_light', 'green_light', 'green_light', 'green_light', 'green_light']\n"
          ]
        }
      ]
    },
    {
      "cell_type": "markdown",
      "source": [
        "# Task1.3"
      ],
      "metadata": {
        "id": "3qgldGgocRwE"
      }
    },
    {
      "cell_type": "code",
      "source": [
        "class titanIndex:\n",
        "    def __init__(self, titans, height, strength):\n",
        "        self.titans = titans\n",
        "        self.height = height\n",
        "        self.strength = strength\n",
        "\n",
        "    def TitanvsScout(self):  # Method , always takes self\n",
        "        # scoutName = input(\"Name of Scout : \")\n",
        "        # scoutStrength = int(input(\"Scout strength : \"))\n",
        "        scoutName = 'Levi'\n",
        "        scoutStrength = 300\n",
        "        winningStreak = 0\n",
        "        if self.strength > scoutStrength:\n",
        "            winningStreak = winningStreak + 1\n",
        "            print(f\"{self.titans} wins\")\n",
        "        elif self.strength < scoutStrength:\n",
        "            print('{} wins'.format(scoutName))\n",
        "        else:\n",
        "            print('Draw')\n",
        "        print(winningStreak)\n",
        "\n",
        "    def TitanvsTitan(self):  #\n",
        "        titanName = 'Armored Titan'\n",
        "        titanStrength = 250\n",
        "        if self.titans == titanName:\n",
        "            print('Here , Titan does not have to fight with itself')\n",
        "        elif self.strength > titanStrength:\n",
        "            print(f\"{self.titans} wins\")\n",
        "        elif self.strength < titanStrength:\n",
        "            print('{} wins'.format(titanName))\n",
        "        else:\n",
        "            print('Draw')\n",
        "\n",
        "print('\\n')\n",
        "print('Titan vs Scout')\n",
        "foundingTitan = titanIndex(\"Founding Titan\", 13, 350)\n",
        "foundingTitan.TitanvsScout()\n",
        "\n",
        "attackTitan = titanIndex(\"Attack Titan\", 15, 275)\n",
        "attackTitan.TitanvsScout()\n",
        "\n",
        "colossalTitan = titanIndex(\"Colossal Titan\", 60, 300)\n",
        "colossalTitan.TitanvsScout()\n",
        "\n",
        "print('\\n')\n",
        "print('Titan vs Titan')\n",
        "attackTitan = titanIndex(\"Attack Titan\", 15, 275)\n",
        "attackTitan.TitanvsTitan()\n",
        "\n",
        "armoredTitan = titanIndex(\"Armored Titan\", 15, 250)\n",
        "armoredTitan.TitanvsTitan()\n",
        "\n",
        "jawTitan = titanIndex(\"Jaw Titan\", 5, 235)\n",
        "jawTitan.TitanvsTitan()\n",
        "\n",
        "beastTitan = titanIndex(\"Beast Titan\", 17, 250)\n",
        "beastTitan.TitanvsTitan()"
      ],
      "metadata": {
        "id": "T_GqR5LVcVHS"
      },
      "execution_count": null,
      "outputs": []
    }
  ]
}